{
 "cells": [
  {
   "cell_type": "markdown",
   "metadata": {},
   "source": [
    "# Homework 1 Part 2\n",
    "\n",
    "\n",
    "This is an individual assignment."
   ]
  },
  {
   "cell_type": "markdown",
   "metadata": {},
   "source": [
    "## Description\n",
    "\n",
    "Create or edit this Jupyter Notebook to answer the questions below. Use simulations to answer these questions. An analytical solution can be useful to check if your simulation is correct but analytical solutions alone will not be accepted as a solution to a problem."
   ]
  },
  {
   "cell_type": "code",
   "execution_count": 4,
   "metadata": {},
   "outputs": [],
   "source": [
    "import numpy\n",
    "import random"
   ]
  },
  {
   "cell_type": "markdown",
   "metadata": {},
   "source": [
    "## Problem 1\n",
    "\n",
    "Consider repeatedly rolling a fair 4-sided die.\n",
    "\n",
    "1. Create a simulation to compute the probability that the top face will be 4 at least once on four rolls of the die?\n",
    "2. Create a simulation to compute the probability that the top face will be 4 at least once on 20 rolls of the die?\n",
    "3. Create a simulation to compute how many rolls of the die would you have to do to be 90% confident that you would see at least one 4?\n",
    "4. Using the formula you have computed in problem 2 part 4, make a Python function that takes in the target value $p$ and outputs the required number of rolls of an integer. \n",
    "    1. Find the values for $p=0.95$ and $p=0.99$. \n",
    "    2. Use your simulation to verify that the number of rolls you specified is sufficient to achieve $p\\geq 0.95$."
   ]
  },
  {
   "cell_type": "code",
   "execution_count": 18,
   "metadata": {},
   "outputs": [
    {
     "name": "stdout",
     "output_type": "stream",
     "text": [
      " Simulated probability that top face is 4 on four rolls of the die is  0.68203\n",
      " Analytical probability that top face is 4 is = 1-(3/4)^4 =  0.6836\n"
     ]
    }
   ],
   "source": [
    "# 1. \n",
    "numSimulations = 100000\n",
    "die = [1, 2, 3, 4]\n",
    "numFour = 0\n",
    "for sim in range(numSimulations):\n",
    "    topFaces = random.choices(die, k=4)\n",
    "    if 4 in topFaces:\n",
    "        numFour += 1\n",
    "print(' Simulated probability that top face is 4 on four rolls of the die is ', numFour / numSimulations)\n",
    "print(' Analytical probability that top face is 4 is = 1-(3/4)^4 = ', 0.6836)"
   ]
  },
  {
   "cell_type": "code",
   "execution_count": 20,
   "metadata": {},
   "outputs": [
    {
     "name": "stdout",
     "output_type": "stream",
     "text": [
      " Simulated probability that top face is 4 on twenty rolls of the die is  0.99702\n",
      " Analytical probability that top face on twenty rolls is 4 is = 1-(3/4)^20 =  0.9968\n"
     ]
    }
   ],
   "source": [
    "# 2.\n",
    "numSimulations = 100000\n",
    "die = [1, 2, 3, 4]\n",
    "numFour = 0\n",
    "for sim in range(numSimulations):\n",
    "    topFaces = random.choices(die, k=20)\n",
    "    if 4 in topFaces:\n",
    "        numFour += 1\n",
    "print(' Simulated probability that top face is 4 on twenty rolls of the die is ', numFour / numSimulations)\n",
    "print(' Analytical probability that top face on twenty rolls is 4 is = 1-(3/4)^20 = ', 0.9968)"
   ]
  },
  {
   "cell_type": "code",
   "execution_count": 32,
   "metadata": {},
   "outputs": [
    {
     "name": "stdout",
     "output_type": "stream",
     "text": [
      " The number of attempts to be 90 percent confident that four appears at least once is 8\n"
     ]
    }
   ],
   "source": [
    "# 3.\n",
    "numSimulations = 100000\n",
    "die = [1,2,3,4]\n",
    "numFour = 0\n",
    "probability = 0\n",
    "numAttempts = 0\n",
    "while probability < 0.90:\n",
    "    numAttempts += 1\n",
    "    for sim in range(numSimulations):\n",
    "        topFaces = random.choices(die, k=numAttempts)\n",
    "        if 4 in topFaces:\n",
    "            numFour += 1\n",
    "    probability = numFour / numSimulations\n",
    "    numFour = 0\n",
    "print(' The number of attempts to be 90 percent confident that four appears at least once is',numAttempts)"
   ]
  },
  {
   "cell_type": "code",
   "execution_count": 39,
   "metadata": {},
   "outputs": [],
   "source": [
    "# 4.\n",
    "def numRolls(targetValue):\n",
    "    numSimulations = 100000\n",
    "    die = [1,2,3,4]\n",
    "    numFour = 0\n",
    "    probability = 0\n",
    "    numAttempts = 0\n",
    "    while probability < targetValue:\n",
    "        numAttempts += 1\n",
    "        for sim in range(numSimulations):\n",
    "            topFaces = random.choices(die, k=numAttempts)\n",
    "            if 4 in topFaces:\n",
    "                numFour += 1\n",
    "        probability = numFour / numSimulations\n",
    "        numFour = 0\n",
    "    return numAttempts\n"
   ]
  },
  {
   "cell_type": "code",
   "execution_count": 41,
   "metadata": {},
   "outputs": [
    {
     "name": "stdout",
     "output_type": "stream",
     "text": [
      " Analytical number of attempts to get an accuracy of p = 0.95 and 0.99 is found by solving for n:\n",
      " p = 1-(3/4)^n which results in 10 and 16 respectively\n",
      " Using the function numRolls(), the simulated number of attempts to get an accuracy of p = 0.95 and 0.99 is:\n",
      " 11 and 17 respectively\n"
     ]
    }
   ],
   "source": [
    "print(' Analytical number of attempts to get an accuracy of p = 0.95 and 0.99 is found by solving for n:')\n",
    "print(' p = 1-(3/4)^n which results in 10 and 16 respectively')\n",
    "print(' Using the function numRolls(), the simulated number of attempts to get an accuracy of p = 0.95 and 0.99 is:')\n",
    "print('', numRolls(0.95), 'and', numRolls(0.99), 'respectively')"
   ]
  },
  {
   "cell_type": "markdown",
   "metadata": {},
   "source": [
    "## Problem 2\n",
    "\n",
    "Create a simulation function where you will roll a fair 6-sided die twice. Use simulation to find out the probability of getting a 4 or 6 on the first toss and a 1,2,3, or 5 on the second toss. "
   ]
  },
  {
   "cell_type": "code",
   "execution_count": 94,
   "metadata": {},
   "outputs": [],
   "source": [
    "def eventProb():\n",
    "    numSimulations = 100000\n",
    "    die = [1,2,3,4,5,6]\n",
    "    numEvents = 0\n",
    "    for sim in range(numSimulations):\n",
    "        topFace1 = random.choices(die)\n",
    "        if topFace1[0] == 4 or topFace1[0] == 6:\n",
    "            topFace2 = random.choices(die)\n",
    "            if topFace2[0] == 1 or topFace2[0] == 2 or topFace2[0] == 3 or topFace2[0] == 5:\n",
    "                numEvents += 1\n",
    "    return numEvents/numSimulations\n"
   ]
  },
  {
   "cell_type": "code",
   "execution_count": 98,
   "metadata": {},
   "outputs": [
    {
     "name": "stdout",
     "output_type": "stream",
     "text": [
      "0.22202\n"
     ]
    }
   ],
   "source": [
    "print(eventProb())"
   ]
  },
  {
   "cell_type": "markdown",
   "metadata": {},
   "source": [
    "## Problem 3\n",
    "\n",
    "Suppose that you have a bag with 3 coins. One of them is a fair coin, but the others are biased trick coins. When flipped, the three coins come up heads with probability $\\frac{1}{2}$, $\\frac{1}{4}$, and $\\frac{1}{6}$, respectively.\n",
    "\n",
    "Consider the experiment where you pick one coin at random and flip it three times. Let $H_i$ be the event that the coin comes up heads on flip $i$. What is the probability of the outcome $H_1\\cap H_2\\cap \\overline{H_3}$?\n",
    "\n",
    "With small modification in your code, find out the probability of the outcome $H_1\\cap \\overline{H_2} \\cap \\overline{H_3}$.\n",
    "\n",
    "Use simulation to find out the probability."
   ]
  },
  {
   "cell_type": "code",
   "execution_count": 9,
   "metadata": {},
   "outputs": [
    {
     "name": "stdout",
     "output_type": "stream",
     "text": [
      "the probability of the first set of events occuring is 0.06519\n"
     ]
    }
   ],
   "source": [
    "numSimulations = 100000\n",
    "coins = ['a', 'b', 'c']\n",
    "aCoin = ['head', 'tails']\n",
    "bCoin = ['head', 'tails', 'tails', 'tails']\n",
    "cCoin = ['head', 'tails', 'tails', 'tails', 'tails', 'tails']\n",
    "eventCount = 0\n",
    "for sim in range(numSimulations):\n",
    "    chosenCoin = random.choices(coins)\n",
    "    if chosenCoin[0] == 'a':\n",
    "        resultSide = random.choices(aCoin, k=3)\n",
    "    if chosenCoin[0] == 'b':\n",
    "        resultSide = random.choices(bCoin, k=3)\n",
    "    if chosenCoin[0] == 'c':\n",
    "        resultSide = random.choices(cCoin, k=3)\n",
    "    if resultSide[0] == 'head' and resultSide[1] == 'head' and resultSide[2] == 'tails':\n",
    "        eventCount += 1\n",
    "print('the probability of the first set of events occuring is', eventCount/numSimulations)\n",
    "        "
   ]
  },
  {
   "cell_type": "code",
   "execution_count": 11,
   "metadata": {},
   "outputs": [
    {
     "name": "stdout",
     "output_type": "stream",
     "text": [
      "the probability of the second set of events occuring is 0.12685\n"
     ]
    }
   ],
   "source": [
    "numSimulations = 100000\n",
    "coins = ['a', 'b', 'c']\n",
    "aCoin = ['head', 'tails']\n",
    "bCoin = ['head', 'tails', 'tails', 'tails']\n",
    "cCoin = ['head', 'tails', 'tails', 'tails', 'tails', 'tails']\n",
    "eventCount = 0\n",
    "for sim in range(numSimulations):\n",
    "    chosenCoin = random.choices(coins)\n",
    "    if chosenCoin[0] == 'a':\n",
    "        resultSide = random.choices(aCoin, k=3)\n",
    "    if chosenCoin[0] == 'b':\n",
    "        resultSide = random.choices(bCoin, k=3)\n",
    "    if chosenCoin[0] == 'c':\n",
    "        resultSide = random.choices(cCoin, k=3)\n",
    "    if resultSide[0] == 'head' and resultSide[1] == 'tails' and resultSide[2] == 'tails':\n",
    "        eventCount += 1\n",
    "print('the probability of the second set of events occuring is', eventCount/numSimulations)\n",
    "   "
   ]
  },
  {
   "cell_type": "markdown",
   "metadata": {},
   "source": [
    "# Submit Your Solutions\n",
    "\n",
    "Confirm that you've successfully completed the assignment.\n",
    "\n",
    "Along with the Notebook, include a PDF of the notebook with your solutions.\n",
    "\n",
    "```add``` and ```commit``` the final version of your work, and ```push``` your PDF file to your GitHub repository.\n",
    "\n",
    "Submit the URL of your GitHub Repository as your assignment submission on Canvas."
   ]
  }
 ],
 "metadata": {
  "kernelspec": {
   "display_name": "Python 3 (ipykernel)",
   "language": "python",
   "name": "python3"
  },
  "language_info": {
   "codemirror_mode": {
    "name": "ipython",
    "version": 3
   },
   "file_extension": ".py",
   "mimetype": "text/x-python",
   "name": "python",
   "nbconvert_exporter": "python",
   "pygments_lexer": "ipython3",
   "version": "3.11.5"
  },
  "latex_envs": {
   "LaTeX_envs_menu_present": true,
   "autoclose": false,
   "autocomplete": true,
   "bibliofile": "biblio.bib",
   "cite_by": "apalike",
   "current_citInitial": 1,
   "eqLabelWithNumbers": true,
   "eqNumInitial": 1,
   "hotkeys": {
    "equation": "Ctrl-E",
    "itemize": "Ctrl-I"
   },
   "labels_anchors": false,
   "latex_user_defs": false,
   "report_style_numbering": false,
   "user_envs_cfg": false
  },
  "varInspector": {
   "cols": {
    "lenName": 16,
    "lenType": 16,
    "lenVar": 40
   },
   "kernels_config": {
    "python": {
     "delete_cmd_postfix": "",
     "delete_cmd_prefix": "del ",
     "library": "var_list.py",
     "varRefreshCmd": "print(var_dic_list())"
    },
    "r": {
     "delete_cmd_postfix": ") ",
     "delete_cmd_prefix": "rm(",
     "library": "var_list.r",
     "varRefreshCmd": "cat(var_dic_list()) "
    }
   },
   "types_to_exclude": [
    "module",
    "function",
    "builtin_function_or_method",
    "instance",
    "_Feature"
   ],
   "window_display": false
  }
 },
 "nbformat": 4,
 "nbformat_minor": 4
}
